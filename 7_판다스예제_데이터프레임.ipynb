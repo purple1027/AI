{
  "nbformat": 4,
  "nbformat_minor": 0,
  "metadata": {
    "colab": {
      "provenance": [],
      "gpuType": "T4",
      "authorship_tag": "ABX9TyPXVAMCi9W2tN3QRYnCdoJa",
      "include_colab_link": true
    },
    "kernelspec": {
      "name": "python3",
      "display_name": "Python 3"
    },
    "language_info": {
      "name": "python"
    },
    "accelerator": "GPU"
  },
  "cells": [
    {
      "cell_type": "markdown",
      "metadata": {
        "id": "view-in-github",
        "colab_type": "text"
      },
      "source": [
        "<a href=\"https://colab.research.google.com/github/purple1027/AI/blob/%2Bpython/7_%ED%8C%90%EB%8B%A4%EC%8A%A4%EC%98%88%EC%A0%9C_%EB%8D%B0%EC%9D%B4%ED%84%B0%ED%94%84%EB%A0%88%EC%9E%84.ipynb\" target=\"_parent\"><img src=\"https://colab.research.google.com/assets/colab-badge.svg\" alt=\"Open In Colab\"/></a>"
      ]
    },
    {
      "cell_type": "markdown",
      "source": [
        "- 데이터프레임\n",
        "    - 2차원\n",
        "\n",
        "    "
      ],
      "metadata": {
        "id": "-G57-Y7BXsGi"
      }
    },
    {
      "cell_type": "code",
      "execution_count": 10,
      "metadata": {
        "id": "0yWhpZmfXjEw"
      },
      "outputs": [],
      "source": [
        "import pandas as pd\n",
        "#데이터 프레임 생성하기 - 방법2 리스트로 한다"
      ]
    },
    {
      "cell_type": "code",
      "source": [
        "\n",
        "list1 = list([['한빛', '남자', '20', '180'],\n",
        "       ['한결', '남자', '21', '177'],\n",
        "       ['한라', '여자', '20', '160']])\n",
        "\n",
        "\n",
        "col_names=['이름','성별','나이','키']\n",
        "df1=pd.DataFrame(list1, columns=col_names)\n",
        "df1\n",
        "\n",
        "df2=pd.DataFrame(list1,index=['1반','2반','3반'], columns=col_names)\n",
        "\n",
        "df2\n",
        "\n",
        "df2.index\n",
        "df2.values\n",
        "\n"
      ],
      "metadata": {
        "colab": {
          "base_uri": "https://localhost:8080/"
        },
        "id": "HjLnGbkiYM-p",
        "outputId": "8f5a69a0-c8aa-4777-86ea-81981ab01752"
      },
      "execution_count": 19,
      "outputs": [
        {
          "output_type": "execute_result",
          "data": {
            "text/plain": [
              "array([['한빛', '남자', '20', '180'],\n",
              "       ['한결', '남자', '21', '177'],\n",
              "       ['한라', '여자', '20', '160']], dtype=object)"
            ]
          },
          "metadata": {},
          "execution_count": 19
        }
      ]
    },
    {
      "cell_type": "code",
      "source": [
        "#데이터 프레임 생성하기 - 방법2 딕셔너리로 한다\n",
        "\n",
        "dict1 = {'이름':{0:'한빛', 1:'한결', 2:'한라'},\n",
        "         '성별':{0:'남자', 1:'남자', 2:'여자'},\n",
        "         '나이':{0:'20', 1:'21', 2:'20'},\n",
        "         '키':{0:'180', 1:'177', 2:'160'}}\n",
        "df2=pd.DataFrame(dict1)\n",
        "df2\n",
        "\n",
        "\n",
        "\n",
        "dict2 = {'이름':{0:'허준호', 1:'이가원', 2:'배규민', 3:'고고림'},\n",
        "         '성별':{0:'남자', 1:'여자', 2:'남자', 3:'남자'},\n",
        "         '나이':{0:'30', 1:'24', 2:'23', 3:'21'},\n",
        "         '키':{0:'183', 1:'162', 2:'179', 3:'182'}}\n",
        "df3=pd.DataFrame(dict2)\n",
        "df3\n",
        "\n",
        "\n",
        "\n",
        "df3.to_csv('df3.csv',header=True, index=False, encoding='cp949')\n",
        "df3.to_excel('df3.xlsx',header=True, index=False, encoding='cp949')\n"
      ],
      "metadata": {
        "id": "rRlP28vVZ1NZ"
      },
      "execution_count": 33,
      "outputs": []
    },
    {
      "cell_type": "code",
      "source": [
        "#외부 파일 불러오기\n",
        "\n",
        "#\n",
        "\n",
        "#방법 1 다운로드 받아서 코랩에 올려주기\n",
        "#파일 업로드하기\n",
        "\n",
        "#from google.colab import files\n",
        "#f=files.upload()\n",
        "\n",
        "#iris_df=pd.read_csv('iris.csv',sep=',',encoding='cp949')\n",
        "\n",
        "#iris_df\n",
        "\n",
        "#방법 2_ 다운받을 URL 주소를 써주면 코랩에서 찾아서 올려줌\n",
        "\n",
        "iris_url='https://raw.githubusercontent.com/mwaskom/seaborn-data/master/iris.csv'\n",
        "\n",
        "iris_df=pd.read_csv(iris_url,sep=',',encoding='cp949')\n",
        "iris_df\n",
        "\n",
        "\n"
      ],
      "metadata": {
        "colab": {
          "base_uri": "https://localhost:8080/",
          "height": 110
        },
        "id": "1gm1dPOUgfWk",
        "outputId": "c1126ffb-32b7-46c9-fd5c-9744a0df54b3"
      },
      "execution_count": 52,
      "outputs": [
        {
          "output_type": "error",
          "ename": "SyntaxError",
          "evalue": "unterminated string literal (detected at line 26) (<ipython-input-52-c117353659c5>, line 26)",
          "traceback": [
            "\u001b[0;36m  File \u001b[0;32m\"<ipython-input-52-c117353659c5>\"\u001b[0;36m, line \u001b[0;32m26\u001b[0m\n\u001b[0;31m    vg_df=pd.read_csv(vg_url')\u001b[0m\n\u001b[0m                            ^\u001b[0m\n\u001b[0;31mSyntaxError\u001b[0m\u001b[0;31m:\u001b[0m unterminated string literal (detected at line 26)\n"
          ]
        }
      ]
    }
  ]
}