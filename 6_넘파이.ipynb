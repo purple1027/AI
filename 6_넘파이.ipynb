{
  "nbformat": 4,
  "nbformat_minor": 0,
  "metadata": {
    "colab": {
      "provenance": [],
      "authorship_tag": "ABX9TyPPJjkAgd9ImOJSUFyAIKH8",
      "include_colab_link": true
    },
    "kernelspec": {
      "name": "python3",
      "display_name": "Python 3"
    },
    "language_info": {
      "name": "python"
    }
  },
  "cells": [
    {
      "cell_type": "markdown",
      "metadata": {
        "id": "view-in-github",
        "colab_type": "text"
      },
      "source": [
        "<a href=\"https://colab.research.google.com/github/purple1027/AI/blob/%2Bpython/6_%EB%84%98%ED%8C%8C%EC%9D%B4.ipynb\" target=\"_parent\"><img src=\"https://colab.research.google.com/assets/colab-badge.svg\" alt=\"Open In Colab\"/></a>"
      ]
    },
    {
      "cell_type": "markdown",
      "source": [],
      "metadata": {
        "id": "V64cd1wd0gS2"
      }
    },
    {
      "cell_type": "code",
      "execution_count": 1,
      "metadata": {
        "colab": {
          "base_uri": "https://localhost:8080/"
        },
        "id": "QpL0siNd0V6N",
        "outputId": "5f92d550-4d89-4a76-c751-91400a34f710"
      },
      "outputs": [
        {
          "output_type": "stream",
          "name": "stdout",
          "text": [
            "Requirement already satisfied: numpy in /usr/local/lib/python3.10/dist-packages (1.25.2)\n"
          ]
        }
      ],
      "source": [
        "!pip install numpy #넘파이 설치"
      ]
    },
    {
      "cell_type": "code",
      "source": [
        "import numpy as np #임포트\n",
        "a=np.array(0) #스칼라\n",
        "print(a)\n",
        "print(a.ndim) #0차원\n",
        "\n",
        "a2=np.array([1,2,3,4]) #벡터\n",
        "print(a2)\n",
        "print(a2.ndim) #1차원\n",
        "\n",
        "\n",
        "a3=np.array([[1,2,3],[4,5,6],[7,8,9]]) #행렬 3행 3열\n",
        "print(a3)\n",
        "print(a3.ndim) #2차원\n",
        "\n",
        "\n",
        "a4=np.array([[[1,2],[3,4],[5,6]],[[7,8],[9,10],[10,11]]]) #텐서\n",
        "print(a4)\n",
        "print(a4.shape)\n",
        "#3면 2행 2열\n",
        "\n",
        "a5=np.array([[[1,2],[3,4]],[[5,6],[7,8],],[[9,10],[11,12],]])\n",
        "print(a5)\n",
        "print(a5.shape)\n",
        "\n",
        "\n"
      ],
      "metadata": {
        "colab": {
          "base_uri": "https://localhost:8080/"
        },
        "id": "ZbP7gGQI2rFG",
        "outputId": "6112ded0-e1c1-4ea8-a2b1-0c09a53da305"
      },
      "execution_count": 17,
      "outputs": [
        {
          "output_type": "stream",
          "name": "stdout",
          "text": [
            "0\n",
            "0\n",
            "[1 2 3 4]\n",
            "1\n",
            "[[1 2 3]\n",
            " [4 5 6]\n",
            " [7 8 9]]\n",
            "2\n",
            "[[[ 1  2]\n",
            "  [ 3  4]\n",
            "  [ 5  6]]\n",
            "\n",
            " [[ 7  8]\n",
            "  [ 9 10]\n",
            "  [10 11]]]\n",
            "(2, 3, 2)\n",
            "[[[ 1  2]\n",
            "  [ 3  4]]\n",
            "\n",
            " [[ 5  6]\n",
            "  [ 7  8]]\n",
            "\n",
            " [[ 9 10]\n",
            "  [11 12]]]\n",
            "(3, 2, 2)\n"
          ]
        }
      ]
    },
    {
      "cell_type": "code",
      "source": [
        "#reshaping\n",
        "\n",
        "b=np.arange(12)\n",
        "print(b)\n",
        "\n",
        "b.shape\n",
        "print(b.size,'~~~~')\n",
        "b.shape=2,-1\n",
        "print(b)\n",
        "b.shape\n",
        "\n",
        "b.shape=3,-1\n",
        "print(b)\n",
        "\n",
        "b.shape\n",
        "\n",
        "b.shape=-1,1\n",
        "\n",
        "print(b)\n",
        "b.shape\n",
        "\n",
        "b.shape=-1,3\n",
        "print(b)\n",
        "b.shape\n",
        "\n",
        "b.shape=-1\n",
        "print(b)\n",
        "\n",
        "print(b.size,'~~~~')"
      ],
      "metadata": {
        "colab": {
          "base_uri": "https://localhost:8080/"
        },
        "id": "XaovYQ8-ApHW",
        "outputId": "a2e7f566-b7d3-410b-b3cd-75257543d9ad"
      },
      "execution_count": 34,
      "outputs": [
        {
          "output_type": "stream",
          "name": "stdout",
          "text": [
            "[ 0  1  2  3  4  5  6  7  8  9 10 11]\n",
            "12 ~~~~\n",
            "[[ 0  1  2  3  4  5]\n",
            " [ 6  7  8  9 10 11]]\n",
            "[[ 0  1  2  3]\n",
            " [ 4  5  6  7]\n",
            " [ 8  9 10 11]]\n",
            "[[ 0]\n",
            " [ 1]\n",
            " [ 2]\n",
            " [ 3]\n",
            " [ 4]\n",
            " [ 5]\n",
            " [ 6]\n",
            " [ 7]\n",
            " [ 8]\n",
            " [ 9]\n",
            " [10]\n",
            " [11]]\n",
            "[[ 0  1  2]\n",
            " [ 3  4  5]\n",
            " [ 6  7  8]\n",
            " [ 9 10 11]]\n",
            "[ 0  1  2  3  4  5  6  7  8  9 10 11]\n",
            "12 ~~~~\n"
          ]
        }
      ]
    },
    {
      "cell_type": "code",
      "source": [
        "b=np.arange(13)\n",
        "print(b)\n",
        "\n",
        "b.shape\n",
        "#b.shape=2,-1\n",
        "print(b)\n",
        "b.shape\n"
      ],
      "metadata": {
        "colab": {
          "base_uri": "https://localhost:8080/"
        },
        "id": "fPcvSeGoCudY",
        "outputId": "253e649f-ac57-4283-ac60-7b1066d84339"
      },
      "execution_count": 32,
      "outputs": [
        {
          "output_type": "stream",
          "name": "stdout",
          "text": [
            "[ 0  1  2  3  4  5  6  7  8  9 10 11 12]\n",
            "[ 0  1  2  3  4  5  6  7  8  9 10 11 12]\n"
          ]
        },
        {
          "output_type": "execute_result",
          "data": {
            "text/plain": [
              "(13,)"
            ]
          },
          "metadata": {},
          "execution_count": 32
        }
      ]
    },
    {
      "cell_type": "markdown",
      "source": [
        "- 자료형\n",
        "  - int형 (정수)\n",
        "    - int64, int8, unint64\n",
        "  - float형 (실수)\n",
        "    - float64,32,16\n",
        "    - 실수의 기본은 float64이다!\n",
        "\n",
        "  - complex형 (복소수)\n",
        "    - complex128, 64"
      ],
      "metadata": {
        "id": "_V_nEdPVD0Lq"
      }
    },
    {
      "cell_type": "code",
      "source": [
        "#int 자료 표현의 범위\n",
        "\n",
        "a=np.array([1,3,5,7,9], np.int8)\n",
        "print(a)\n",
        "a.dtype\n",
        "\n",
        "a1=np.array([2147483646,2147483647,2147483649], np.int64)\n",
        "print(a1)\n",
        "\n",
        "a2=np.array([2**63, 2**63+1,2**63+2], np.uint64)\n",
        "print(a2)\n",
        "a2.dtype\n",
        "\n",
        "\n",
        "a3=np.array([2**62,-2**62])\n",
        "print(a3)\n",
        "a3.dtype\n",
        "\n",
        "\n",
        "a4=np.array([1,3,5,7,9])\n",
        "print(a4)\n",
        "a4.dtype\n",
        "\n",
        "#결론 자료형을 명하지 않으면 정수형의 기본은 int64\n",
        "#너무 큰 자료형이므로 메모리절약을 위해서 int8, int16, int32로 바꿀 수 있다!\n",
        "\n",
        "\n"
      ],
      "metadata": {
        "colab": {
          "base_uri": "https://localhost:8080/"
        },
        "id": "dud7SV4BDxC4",
        "outputId": "96a02b52-dda1-4e2c-b316-2035c115654f"
      },
      "execution_count": 52,
      "outputs": [
        {
          "output_type": "stream",
          "name": "stdout",
          "text": [
            "[1 3 5 7 9]\n",
            "[2147483646 2147483647 2147483649]\n",
            "[9223372036854775808 9223372036854775809 9223372036854775810]\n",
            "[ 4611686018427387904 -4611686018427387904]\n",
            "[1 3 5 7 9]\n"
          ]
        },
        {
          "output_type": "execute_result",
          "data": {
            "text/plain": [
              "dtype('int64')"
            ]
          },
          "metadata": {},
          "execution_count": 52
        }
      ]
    },
    {
      "cell_type": "code",
      "source": [
        "#실수형\n",
        "\n",
        "a=np.array(3.141502653589793, np.float64)\n",
        "print(a)\n",
        "a.dtype\n",
        "\n",
        "\n",
        "\n",
        "a2=np.array(3.141502653589793)\n",
        "print(a2)\n",
        "a2.dtype\n"
      ],
      "metadata": {
        "colab": {
          "base_uri": "https://localhost:8080/"
        },
        "id": "UJmksni4NeEP",
        "outputId": "113ccb03-28e6-4184-a591-ca11f5884d2b"
      },
      "execution_count": 62,
      "outputs": [
        {
          "output_type": "stream",
          "name": "stdout",
          "text": [
            "3.141502653589793\n",
            "3.141502653589793\n"
          ]
        },
        {
          "output_type": "execute_result",
          "data": {
            "text/plain": [
              "dtype('float64')"
            ]
          },
          "metadata": {},
          "execution_count": 62
        }
      ]
    },
    {
      "cell_type": "code",
      "source": [
        "#복소수\n",
        "\n",
        "a=np.array([1,2j,3+4j,2.72+3.14j])\n",
        "print(a)\n",
        "a.dtype\n",
        "a.real #실수만 추출\n",
        "\n",
        "a.imag\n",
        "\n",
        "print(a.real.dtype,'!!')\n",
        "print(a.imag.dtype,'~~')"
      ],
      "metadata": {
        "colab": {
          "base_uri": "https://localhost:8080/"
        },
        "id": "qeO0Qv7iSAlx",
        "outputId": "a1a64193-8835-43c1-da2a-2f24079fb15a"
      },
      "execution_count": 73,
      "outputs": [
        {
          "output_type": "stream",
          "name": "stdout",
          "text": [
            "[1.  +0.j   0.  +2.j   3.  +4.j   2.72+3.14j]\n",
            "float64 !!\n",
            "float64 ~~\n"
          ]
        }
      ]
    },
    {
      "cell_type": "markdown",
      "source": [
        "1. 인덱싱\n",
        "  1. 1DArray\n",
        "  2. 2DArray\n",
        "\n",
        "2. 슬라이싱\n",
        "  1. 1DArray\n",
        "  2. 2DArray\n",
        "\n",
        "3. iterating\n",
        "  1. 1DArray\n",
        "  2. 2DArray"
      ],
      "metadata": {
        "id": "TnLnALorVYAP"
      }
    },
    {
      "cell_type": "code",
      "source": [
        "# 1. 인덱싱 1. 1DArray\n",
        "\n",
        "a=np.array([1,3,5,7,9])\n",
        "print(a)\n",
        "print(a.ndim)\n",
        "print(a.shape)\n",
        "print(a[0])\n",
        "print(a[3])\n",
        "print(a[4])\n",
        "print(a[-1])\n",
        "print(a[-2])"
      ],
      "metadata": {
        "colab": {
          "base_uri": "https://localhost:8080/"
        },
        "id": "mWS07Fv1VUEX",
        "outputId": "a96d37a6-2826-480f-f802-8239809c2128"
      },
      "execution_count": 82,
      "outputs": [
        {
          "output_type": "stream",
          "name": "stdout",
          "text": [
            "[1 3 5 7 9]\n",
            "1\n",
            "(5,)\n",
            "1\n",
            "7\n",
            "9\n",
            "9\n",
            "7\n"
          ]
        }
      ]
    },
    {
      "cell_type": "code",
      "source": [
        "# 1. 인덱싱 2. 2DArray\n",
        "\n",
        "a2=np.array([ [1,3,5],[2,4,6] ])\n",
        "print(a2)\n",
        "print(a2.ndim)\n",
        "print(a2.shape)\n",
        "\n",
        "# 1, 5, 4 추출하기\n",
        "print(a2[0,0], a2[0,2], a2[1,1])\n",
        "\n",
        "# 6,3 추출하기\n",
        "print(a2[1,2], a2[0,1])\n",
        "\n",
        "# 3자리에 13으로 바꾸기\n",
        "# 2값을 25로 바꾸기\n",
        "\n",
        "\n",
        "a2[0,1]=13\n",
        "a2[1,0]=25\n",
        "\n",
        "print(a2)\n",
        "\n",
        "\n",
        "# 0번행 전체의 값에 다가 +10\n",
        "\n",
        "a2[0]=a2[0]+10\n",
        "print(a2[0])\n",
        "\n",
        "\n",
        "#1번 행에 2를 전부 곱하기\n",
        "\n",
        "a2[1]=a2[1]*2\n",
        "\n",
        "\n",
        "#1번 열에 2를 전부 나누기\n",
        "\n",
        "a2[:,1:2]=a2[:,1:2]/2\n",
        "\n",
        "print(a2)\n",
        "\n",
        "\n",
        "\n"
      ],
      "metadata": {
        "colab": {
          "base_uri": "https://localhost:8080/"
        },
        "id": "saZLESfOWwqY",
        "outputId": "a2663430-2263-4e1b-9c13-e0684711e64c"
      },
      "execution_count": 101,
      "outputs": [
        {
          "output_type": "stream",
          "name": "stdout",
          "text": [
            "[[1 3 5]\n",
            " [2 4 6]]\n",
            "2\n",
            "(2, 3)\n",
            "1 5 4\n",
            "6 3\n",
            "[[ 1 13  5]\n",
            " [25  4  6]]\n",
            "[11 23 15]\n",
            "[[11 11 15]\n",
            " [50  4 12]]\n"
          ]
        }
      ]
    },
    {
      "cell_type": "code",
      "source": [
        "# 슬라이싱\n",
        "a=np.array([1,3,5,7,9])\n",
        "print(a)\n",
        "print(a.ndim)\n",
        "print(a.shape)\n",
        "print(a[:])\n",
        "print(a[0:])\n",
        "print(a[1:])\n",
        "print(a[2:])\n",
        "print(a[3:])\n",
        "print(a[:0])\n",
        "print(a[:1])\n",
        "print(a[:2])\n",
        "#print(a[1,3,5])\n",
        "\n",
        "print(a[:-1])\n",
        "print(a[:-2])\n",
        "\n",
        "print(a[1:4])\n",
        "\n",
        "a2=np.arange(10) # 0~9 까지 연속적인 수의 배열 만들기..\n",
        "print(a2)\n",
        "print(a2[::2])\n",
        "print(a2[::3])\n",
        "print(a2[::-1])\n",
        "print(a2[1::2])\n",
        "print(a2[:-2:2])\n",
        "print(a2[:-4:2])\n",
        "print(a2[2:-2:2])\n",
        "\n",
        "a3=np.arange(15)\n",
        "# 1,3,5,7,9 출력하기\n",
        "\n",
        "print(a3[1:10:2])\n",
        "\n",
        "# 2,4,6,8,10,12 출력하기\n",
        "print(a3[2:13:2])\n",
        "\n",
        "# 14,13,12,11,10 출력하기\n",
        "print(a3[-1:9:-1])\n",
        "\n",
        "#전부 출력하기\n",
        "print(a3)\n",
        "\n",
        "# 1열 전부 다 출력하기 [1]\n",
        "print(a3[1:2])\n",
        "\n",
        "# 맨마지막 열만 출력하기 [14]\n",
        "\n",
        "print(a3[-1:-2:-1])"
      ],
      "metadata": {
        "colab": {
          "base_uri": "https://localhost:8080/"
        },
        "id": "JXIXy8pPc0UP",
        "outputId": "3b6495c6-43ff-4ab5-eed4-2beb0647e996"
      },
      "execution_count": 143,
      "outputs": [
        {
          "output_type": "stream",
          "name": "stdout",
          "text": [
            "[1 3 5 7 9]\n",
            "1\n",
            "(5,)\n",
            "[1 3 5 7 9]\n",
            "[1 3 5 7 9]\n",
            "[3 5 7 9]\n",
            "[5 7 9]\n",
            "[7 9]\n",
            "[]\n",
            "[1]\n",
            "[1 3]\n",
            "[1 3 5 7]\n",
            "[1 3 5]\n",
            "[3 5 7]\n",
            "[0 1 2 3 4 5 6 7 8 9]\n",
            "[0 2 4 6 8]\n",
            "[0 3 6 9]\n",
            "[9 8 7 6 5 4 3 2 1 0]\n",
            "[1 3 5 7 9]\n",
            "[0 2 4 6]\n",
            "[0 2 4]\n",
            "[2 4 6]\n",
            "[1 3 5 7 9]\n",
            "[ 2  4  6  8 10 12]\n",
            "[14 13 12 11 10]\n",
            "[ 0  1  2  3  4  5  6  7  8  9 10 11 12 13 14]\n",
            "[1]\n",
            "[14]\n"
          ]
        }
      ]
    },
    {
      "cell_type": "code",
      "source": [
        "# 슬라이싱 2D Array\n",
        "a=np.arange(10,25). reshape(3,5)\n",
        "print(a)\n",
        "print(a.shape)\n",
        "\n",
        "#16 17\n",
        "#21 22\n",
        "\n",
        "print(a[1:,1:3])\n",
        "\n",
        "print(a[ :,3:])\n",
        "\n",
        "\n",
        "#0~100까지 9행 10열 2차원 배열을 만드세요\n",
        "\n",
        "a=np.arange(10,100). reshape(9,10)\n",
        "print(a)\n",
        "\n",
        "#\n",
        "\n",
        "print(a[1:5, -4:-1])\n",
        "\n"
      ],
      "metadata": {
        "colab": {
          "base_uri": "https://localhost:8080/"
        },
        "id": "ND3I8hkly05R",
        "outputId": "daaba6ce-80f6-4b40-bdef-65b651ebf588"
      },
      "execution_count": 161,
      "outputs": [
        {
          "output_type": "stream",
          "name": "stdout",
          "text": [
            "[[10 11 12 13 14]\n",
            " [15 16 17 18 19]\n",
            " [20 21 22 23 24]]\n",
            "(3, 5)\n",
            "[[16 17]\n",
            " [21 22]]\n",
            "[[13 14]\n",
            " [18 19]\n",
            " [23 24]]\n",
            "[[10 11 12 13 14 15 16 17 18 19]\n",
            " [20 21 22 23 24 25 26 27 28 29]\n",
            " [30 31 32 33 34 35 36 37 38 39]\n",
            " [40 41 42 43 44 45 46 47 48 49]\n",
            " [50 51 52 53 54 55 56 57 58 59]\n",
            " [60 61 62 63 64 65 66 67 68 69]\n",
            " [70 71 72 73 74 75 76 77 78 79]\n",
            " [80 81 82 83 84 85 86 87 88 89]\n",
            " [90 91 92 93 94 95 96 97 98 99]]\n",
            "[[26 27 28]\n",
            " [36 37 38]\n",
            " [46 47 48]\n",
            " [56 57 58]]\n"
          ]
        }
      ]
    },
    {
      "cell_type": "code",
      "source": [
        "# 3. 이터레이팅 (1)  1D Array\n",
        "\n",
        "a=np.arange(11)**3\n",
        "print(a)\n",
        "\n",
        "for a1 in a:\n",
        "  print(a1)\n",
        "\n",
        "\n",
        ""
      ],
      "metadata": {
        "colab": {
          "base_uri": "https://localhost:8080/"
        },
        "id": "muV1llwI3pGp",
        "outputId": "03310484-33ca-4d97-ad0e-bf1dc0cfe6b0"
      },
      "execution_count": 169,
      "outputs": [
        {
          "output_type": "stream",
          "name": "stdout",
          "text": [
            "[   0    1    8   27   64  125  216  343  512  729 1000]\n",
            "0\n",
            "1\n",
            "8\n",
            "27\n",
            "64\n",
            "125\n",
            "216\n",
            "343\n",
            "512\n",
            "729\n",
            "1000\n"
          ]
        }
      ]
    },
    {
      "cell_type": "code",
      "source": [
        "# 3. 이터레이팅 (1)  2D Array\n",
        "b=np.arange(10,22). reshape(3,4)\n",
        "#print(b)\n",
        "\n",
        "for b1 in b:\n",
        "  print(b1)\n",
        "\n",
        "#요소별로 출력하기\n",
        "\n",
        "\n",
        "for b1 in b:\n",
        "   for b2 in b1:\n",
        "      print(b2)"
      ],
      "metadata": {
        "colab": {
          "base_uri": "https://localhost:8080/"
        },
        "id": "mIRxggF44wWh",
        "outputId": "5eb73e83-a084-4f4a-d629-44bada2f458d"
      },
      "execution_count": 176,
      "outputs": [
        {
          "output_type": "stream",
          "name": "stdout",
          "text": [
            "[10 11 12 13]\n",
            "[14 15 16 17]\n",
            "[18 19 20 21]\n",
            "10\n",
            "11\n",
            "12\n",
            "13\n",
            "14\n",
            "15\n",
            "16\n",
            "17\n",
            "18\n",
            "19\n",
            "20\n",
            "21\n"
          ]
        }
      ]
    },
    {
      "cell_type": "markdown",
      "source": [
        "# 배열의 명령어 Array Operations\n",
        "\n",
        "arange\n",
        "linespace\n",
        "transpose\n",
        "reshape\n",
        "r_\n",
        "c_\n",
        "concatenate\n",
        "hstack, vstack\n",
        "zeros\n",
        "ones\n",
        "full\n",
        "empty\n"
      ],
      "metadata": {
        "id": "Z7isoKGm6Z6h"
      }
    },
    {
      "cell_type": "code",
      "source": [
        "#arange\n",
        "a=np.arange(10,101,5)\n",
        "print(a)\n",
        "\n",
        "a=np.arange(10, dtype=np.float32)\n",
        "print(a)\n",
        "\n",
        "# 0. 0.1 0.2  . . . 0.9\n",
        "a=np.arange(0,1,0.1)\n",
        "print(a)\n",
        "print(a.dtype)"
      ],
      "metadata": {
        "colab": {
          "base_uri": "https://localhost:8080/"
        },
        "id": "kZwOzwqk6XRp",
        "outputId": "ad9b9e55-5351-4c2e-e1de-5c90870846e1"
      },
      "execution_count": 189,
      "outputs": [
        {
          "output_type": "stream",
          "name": "stdout",
          "text": [
            "[ 10  15  20  25  30  35  40  45  50  55  60  65  70  75  80  85  90  95\n",
            " 100]\n",
            "[0. 1. 2. 3. 4. 5. 6. 7. 8. 9.]\n",
            "[0.  0.1 0.2 0.3 0.4 0.5 0.6 0.7 0.8 0.9]\n",
            "float64\n"
          ]
        }
      ]
    },
    {
      "cell_type": "code",
      "source": [
        "#linespace\n",
        "\n",
        "a=np.linespace(0,1,5)\n",
        "print(a)"
      ],
      "metadata": {
        "colab": {
          "base_uri": "https://localhost:8080/",
          "height": 331
        },
        "id": "SaOMonZr_ffS",
        "outputId": "05d3f17a-b2dc-425b-d0df-61824210125c"
      },
      "execution_count": 196,
      "outputs": [
        {
          "output_type": "error",
          "ename": "AttributeError",
          "evalue": "module 'numpy' has no attribute 'linespace'",
          "traceback": [
            "\u001b[0;31m---------------------------------------------------------------------------\u001b[0m",
            "\u001b[0;31mAttributeError\u001b[0m                            Traceback (most recent call last)",
            "\u001b[0;32m<ipython-input-196-02954f775a1f>\u001b[0m in \u001b[0;36m<cell line: 3>\u001b[0;34m()\u001b[0m\n\u001b[1;32m      1\u001b[0m \u001b[0;31m#linespace\u001b[0m\u001b[0;34m\u001b[0m\u001b[0;34m\u001b[0m\u001b[0m\n\u001b[1;32m      2\u001b[0m \u001b[0;34m\u001b[0m\u001b[0m\n\u001b[0;32m----> 3\u001b[0;31m \u001b[0ma\u001b[0m\u001b[0;34m=\u001b[0m\u001b[0mnp\u001b[0m\u001b[0;34m.\u001b[0m\u001b[0mlinespace\u001b[0m\u001b[0;34m(\u001b[0m\u001b[0;36m0\u001b[0m\u001b[0;34m,\u001b[0m\u001b[0;36m1\u001b[0m\u001b[0;34m,\u001b[0m\u001b[0;36m5\u001b[0m\u001b[0;34m)\u001b[0m\u001b[0;34m\u001b[0m\u001b[0;34m\u001b[0m\u001b[0m\n\u001b[0m\u001b[1;32m      4\u001b[0m \u001b[0mprint\u001b[0m\u001b[0;34m(\u001b[0m\u001b[0ma\u001b[0m\u001b[0;34m)\u001b[0m\u001b[0;34m\u001b[0m\u001b[0;34m\u001b[0m\u001b[0m\n",
            "\u001b[0;32m/usr/local/lib/python3.10/dist-packages/numpy/__init__.py\u001b[0m in \u001b[0;36m__getattr__\u001b[0;34m(attr)\u001b[0m\n\u001b[1;32m    326\u001b[0m             \u001b[0;32mraise\u001b[0m \u001b[0mRuntimeError\u001b[0m\u001b[0;34m(\u001b[0m\u001b[0;34m\"Tester was removed in NumPy 1.25.\"\u001b[0m\u001b[0;34m)\u001b[0m\u001b[0;34m\u001b[0m\u001b[0;34m\u001b[0m\u001b[0m\n\u001b[1;32m    327\u001b[0m \u001b[0;34m\u001b[0m\u001b[0m\n\u001b[0;32m--> 328\u001b[0;31m         raise AttributeError(\"module {!r} has no attribute \"\n\u001b[0m\u001b[1;32m    329\u001b[0m                              \"{!r}\".format(__name__, attr))\n\u001b[1;32m    330\u001b[0m \u001b[0;34m\u001b[0m\u001b[0m\n",
            "\u001b[0;31mAttributeError\u001b[0m: module 'numpy' has no attribute 'linespace'"
          ]
        }
      ]
    },
    {
      "cell_type": "code",
      "source": [
        "#transpose\n",
        "\n",
        "a=np.array([[1,2,3],[4,5,6]])\n",
        "b=a.T #열을 행으로 바꿀 것!\n",
        "\n",
        "print(a)\n",
        "print(b)\n",
        "b2=np.transpose(a) #열을 행으로 바꾼것!\n",
        "print(b2)\n",
        "\n",
        "bb2=np.transpose(b2)\n",
        "print(bb2)\n",
        "\n",
        "aa=b.T\n",
        "print(aa)"
      ],
      "metadata": {
        "colab": {
          "base_uri": "https://localhost:8080/"
        },
        "id": "DGIUL3xcAJfS",
        "outputId": "0db77814-d9d9-4ac7-f7cd-4aff7539b09e"
      },
      "execution_count": 204,
      "outputs": [
        {
          "output_type": "stream",
          "name": "stdout",
          "text": [
            "[[1 2 3]\n",
            " [4 5 6]]\n",
            "[[1 4]\n",
            " [2 5]\n",
            " [3 6]]\n",
            "[[1 4]\n",
            " [2 5]\n",
            " [3 6]]\n",
            "[[1 2 3]\n",
            " [4 5 6]]\n",
            "[[1 2 3]\n",
            " [4 5 6]]\n"
          ]
        }
      ]
    },
    {
      "cell_type": "code",
      "source": [
        "#reshape 행렬의 모양을 바꾸는 것!\n",
        "\n",
        "a=np.array([1,2,3,4,5,6]).reshape(6,1)\n",
        "print(a)\n"
      ],
      "metadata": {
        "colab": {
          "base_uri": "https://localhost:8080/"
        },
        "id": "tlgciBD0BthS",
        "outputId": "78690b36-0e69-4a57-c1f5-94988e1f6175"
      },
      "execution_count": 209,
      "outputs": [
        {
          "output_type": "stream",
          "name": "stdout",
          "text": [
            "[[1]\n",
            " [2]\n",
            " [3]\n",
            " [4]\n",
            " [5]\n",
            " [6]]\n"
          ]
        }
      ]
    },
    {
      "cell_type": "code",
      "source": [
        "# r_ row행\n",
        "\n",
        "a=np.array([1,2,3])\n",
        "b=np.array([4,5,6,7])\n",
        "\n",
        "print(a)\n",
        "print(b)\n",
        "\n",
        "c=np.r_[a,b]\n",
        "print(c)"
      ],
      "metadata": {
        "colab": {
          "base_uri": "https://localhost:8080/"
        },
        "id": "BsiY4NS6CQkC",
        "outputId": "417edf65-db5f-47c5-9584-dbab7fa31997"
      },
      "execution_count": 211,
      "outputs": [
        {
          "output_type": "stream",
          "name": "stdout",
          "text": [
            "[1 2 3]\n",
            "[4 5 6 7]\n",
            "[1 2 3 4 5 6 7]\n"
          ]
        }
      ]
    },
    {
      "cell_type": "code",
      "source": [
        "# C_ 열\n",
        "\n",
        "a=np.array([1,2,3])\n",
        "b=np.array([4,5,6])\n",
        "\n",
        "print(a)\n",
        "print(b)\n",
        "\n",
        "c1=np.c_[a,b]\n",
        "print(c1)"
      ],
      "metadata": {
        "colab": {
          "base_uri": "https://localhost:8080/"
        },
        "id": "ns8hZc54C2XC",
        "outputId": "9fffec6c-abbf-4f5a-ffac-e15843cdea71"
      },
      "execution_count": 214,
      "outputs": [
        {
          "output_type": "stream",
          "name": "stdout",
          "text": [
            "[1 2 3]\n",
            "[4 5 6]\n",
            "[[1 4]\n",
            " [2 5]\n",
            " [3 6]]\n"
          ]
        }
      ]
    },
    {
      "cell_type": "code",
      "source": [
        "# concatenate\n",
        "\n",
        "a=np.array([1,2,3])\n",
        "b=np.array([4,5,6])\n",
        "\n",
        "c=np.concatenate([a,b])\n",
        "print(c)\n",
        "\n"
      ],
      "metadata": {
        "colab": {
          "base_uri": "https://localhost:8080/"
        },
        "id": "cdrwQGjQDk5s",
        "outputId": "eb22c6cc-0219-44a7-f61e-aa4432cc0b05"
      },
      "execution_count": 224,
      "outputs": [
        {
          "output_type": "stream",
          "name": "stdout",
          "text": [
            "[1 2 3 4 5 6]\n"
          ]
        }
      ]
    },
    {
      "cell_type": "code",
      "source": [
        "# concatenate\n",
        "\n",
        "a=np.array(  [[1,2],[3,4]]  )\n",
        "b=np.array(  [[5,6],[7,8]]  )\n",
        "print(a)\n",
        "print(b)\n",
        "\n",
        "\n",
        "c=np.concatenate((a,b))\n",
        "print(c)\n",
        "\n",
        "c=np.concatenate((a,b),axis=0) #행으로 합치기\n",
        "print(c)\n",
        "\n",
        "c=np.concatenate((a,b),axis=1) #열로 합치기\n",
        "print(c)\n",
        "\n",
        "\n",
        "c=np.r_[a,b]  #행으로 합치기\n",
        "print(c)"
      ],
      "metadata": {
        "colab": {
          "base_uri": "https://localhost:8080/"
        },
        "id": "NLXAgKehE5IY",
        "outputId": "2a40389f-8e49-4969-b478-05a2c0df1d90"
      },
      "execution_count": 229,
      "outputs": [
        {
          "output_type": "stream",
          "name": "stdout",
          "text": [
            "[[1 2]\n",
            " [3 4]]\n",
            "[[5 6]\n",
            " [7 8]]\n",
            "[[1 2]\n",
            " [3 4]\n",
            " [5 6]\n",
            " [7 8]]\n",
            "[[1 2]\n",
            " [3 4]\n",
            " [5 6]\n",
            " [7 8]]\n",
            "[[1 2 5 6]\n",
            " [3 4 7 8]]\n",
            "[[1 2]\n",
            " [3 4]\n",
            " [5 6]\n",
            " [7 8]]\n"
          ]
        }
      ]
    },
    {
      "cell_type": "code",
      "source": [
        "#hstack- 수평, vstack - 수직\n",
        "\n",
        "a=np.array(  [[1,2],[3,4]]  )\n",
        "b=np.array(  [[5,6],[7,8]]  )\n",
        "\n",
        "c=np.hstack((a,b))\n",
        "print(c)\n",
        "\n",
        "c1=np.vstack((a,b))\n",
        "print(c1)"
      ],
      "metadata": {
        "colab": {
          "base_uri": "https://localhost:8080/"
        },
        "id": "0dXCiBooGrrC",
        "outputId": "159e652d-39d3-4efb-fcdd-68314a350ae5"
      },
      "execution_count": 232,
      "outputs": [
        {
          "output_type": "stream",
          "name": "stdout",
          "text": [
            "[[1 2 5 6]\n",
            " [3 4 7 8]]\n",
            "[[1 2]\n",
            " [3 4]\n",
            " [5 6]\n",
            " [7 8]]\n"
          ]
        }
      ]
    },
    {
      "cell_type": "code",
      "source": [
        "# zeros, ones, full, empty\n",
        "\n",
        "\n",
        "a=np.zeros(5)\n",
        "print(a)\n",
        "\n",
        "a=np.ones(5)\n",
        "print(a)\n",
        "\n",
        "a2=np.zeros((3,5))\n",
        "print(a2)\n",
        "\n",
        "\n",
        "a3=np.ones((5,4))\n",
        "print(a3)\n",
        "\n",
        "print(a.dtype)\n",
        "print(a.ndim)\n",
        "\n",
        "# 모든요소 값을 전부 5로 하고 싶다\n",
        "\n",
        "a=np.full(10,5) #10열 5 값을 전부 넣기\n",
        "print(a)\n",
        "\n",
        "a1=np.full((3,4),7)\n",
        "print(a1)"
      ],
      "metadata": {
        "colab": {
          "base_uri": "https://localhost:8080/"
        },
        "id": "E8U8O9S1IF0L",
        "outputId": "ce14b75a-58a7-4920-bf2b-0978b2ce51d3"
      },
      "execution_count": 242,
      "outputs": [
        {
          "output_type": "stream",
          "name": "stdout",
          "text": [
            "[0. 0. 0. 0. 0.]\n",
            "[1. 1. 1. 1. 1.]\n",
            "[[0. 0. 0. 0. 0.]\n",
            " [0. 0. 0. 0. 0.]\n",
            " [0. 0. 0. 0. 0.]]\n",
            "[[1. 1. 1. 1.]\n",
            " [1. 1. 1. 1.]\n",
            " [1. 1. 1. 1.]\n",
            " [1. 1. 1. 1.]\n",
            " [1. 1. 1. 1.]]\n",
            "float64\n",
            "1\n",
            "[5 5 5 5 5 5 5 5 5 5]\n",
            "[[7 7 7 7]\n",
            " [7 7 7 7]\n",
            " [7 7 7 7]]\n"
          ]
        }
      ]
    },
    {
      "cell_type": "code",
      "source": [
        "# empty 항목을 초기화하지 않고 주어진 모양과 유형의 새 배열을 반환\n",
        "a = np.empty(4)\n",
        "print( a )\n",
        "a = np.empty(4, dtype=np.int64)\n",
        "print( a )\n",
        "a = np.empty( (2,4), dtype=np.int32 )\n",
        "print( a )"
      ],
      "metadata": {
        "colab": {
          "base_uri": "https://localhost:8080/"
        },
        "id": "r8q7-EM_NSGM",
        "outputId": "40167b84-eed1-4cf7-f0e4-c3025f9e6c9b"
      },
      "execution_count": 250,
      "outputs": [
        {
          "output_type": "stream",
          "name": "stdout",
          "text": [
            "[4.9e-324 9.9e-324 1.5e-323 2.0e-323]\n",
            "[1 2 3 4]\n",
            "[[1 0 2 0]\n",
            " [3 0 4 0]]\n"
          ]
        }
      ]
    },
    {
      "cell_type": "markdown",
      "source": [
        "### 수학 명령어 Math Operation\n",
        "- Braodcasting - + * / % ** <배열연산>\n",
        "- Matrix Multiplication 행렬곱\n",
        "- 제곱근, 제곱합\n",
        "- 합계\n",
        "- 누적합계\n",
        "- 평균\n",
        "\n"
      ],
      "metadata": {
        "id": "327O9eygOM8D"
      }
    },
    {
      "cell_type": "code",
      "source": [
        "#Braodcasting - + * / % **  배열연산\n",
        "\n",
        "\n",
        "a=np.array([ [1,2,3],[4,5,6]] )\n",
        "b=np.array([ [2,2,2],[3,3,3]] )\n",
        "\n",
        "print(a+b)\n",
        "print(a-b)\n",
        "print(a*b)\n",
        "print(a/b)\n",
        "print(a%b)\n",
        "print(a**b)\n"
      ],
      "metadata": {
        "colab": {
          "base_uri": "https://localhost:8080/"
        },
        "id": "__QuERw5Owkq",
        "outputId": "51fb4ad3-2ae8-4e60-d6a6-cd0060981a9b"
      },
      "execution_count": 254,
      "outputs": [
        {
          "output_type": "stream",
          "name": "stdout",
          "text": [
            "[[3 4 5]\n",
            " [7 8 9]]\n",
            "[[-1  0  1]\n",
            " [ 1  2  3]]\n",
            "[[ 2  4  6]\n",
            " [12 15 18]]\n",
            "[[0.5        1.         1.5       ]\n",
            " [1.33333333 1.66666667 2.        ]]\n",
            "[[1 0 1]\n",
            " [1 2 0]]\n",
            "[[  1   4   9]\n",
            " [ 64 125 216]]\n"
          ]
        }
      ]
    },
    {
      "cell_type": "code",
      "source": [
        "# Matrix Multiplication 행렬곱\n",
        "\n",
        "\n",
        "a=np.array([ [1,2,3],[4,5,6]] )\n",
        "b=np.array([ [2,2],[3,3],[4,4]] )\n",
        "\n",
        "\n",
        "c=a@b\n",
        "print( c )\n",
        "\n",
        "c=np.matmul(a,b)\n",
        "print( c )"
      ],
      "metadata": {
        "colab": {
          "base_uri": "https://localhost:8080/"
        },
        "id": "gc0OkhlQPkb8",
        "outputId": "7a882943-b407-4d39-e5ca-e33e2beaf0b6"
      },
      "execution_count": 257,
      "outputs": [
        {
          "output_type": "stream",
          "name": "stdout",
          "text": [
            "[[20 20]\n",
            " [47 47]]\n",
            "[[20 20]\n",
            " [47 47]]\n"
          ]
        }
      ]
    },
    {
      "cell_type": "code",
      "source": [
        "# 제곱\n",
        "\n",
        "a=np.array([1,2,3,4])\n",
        "a1=np.square(a)\n",
        "print(a1)\n",
        "\n",
        "a=np.array([1,2,3,4])\n",
        "print(np.sqrt(a))\n",
        "\n",
        "# 합계\n",
        "\n",
        "print(np.sum(a))\n",
        "\n",
        "#평균\n",
        "print(np.average(a))\n",
        "print(np.mean(a))\n",
        "\n",
        "#최대값\n",
        "print(np.max(a))\n",
        "\n",
        "#최소값\n",
        "\n",
        "print(np.min(a))\n",
        "\n",
        "\n",
        "#누적합\n",
        "\n",
        "a=np.array([1,2,3,4,5])\n",
        "print(np.cumsum(a))\n",
        "\n",
        "#누적곱\n",
        "a=np.arange(1,7)\n",
        "print(a)\n",
        "print(np.cumprod(a))"
      ],
      "metadata": {
        "colab": {
          "base_uri": "https://localhost:8080/"
        },
        "id": "S3ueTbWERNnc",
        "outputId": "eb942ff7-c990-41ba-cd9d-cbdeef81df95"
      },
      "execution_count": 274,
      "outputs": [
        {
          "output_type": "stream",
          "name": "stdout",
          "text": [
            "[ 1  4  9 16]\n",
            "[1.         1.41421356 1.73205081 2.        ]\n",
            "10\n",
            "2.5\n",
            "2.5\n",
            "4\n",
            "1\n",
            "[ 1  3  6 10 15]\n",
            "[1 2 3 4 5 6]\n",
            "[  1   2   6  24 120 720]\n"
          ]
        }
      ]
    },
    {
      "cell_type": "markdown",
      "source": [
        "파이\n",
        "\n",
        "- e\n",
        "- exp\n",
        "- sin\n",
        "- cos\n",
        "- tan\n",
        "- log"
      ],
      "metadata": {
        "id": "l-VdmRTcTS-y"
      }
    },
    {
      "cell_type": "code",
      "source": [
        "from numpy import pi, e\n",
        "print(pi)\n",
        "print(e)\n",
        "\n",
        "\n"
      ],
      "metadata": {
        "colab": {
          "base_uri": "https://localhost:8080/"
        },
        "id": "H0xXbMViTSz5",
        "outputId": "a18ce1e0-bb0f-4dda-a9b5-09e097c7b50a"
      },
      "execution_count": 281,
      "outputs": [
        {
          "output_type": "stream",
          "name": "stdout",
          "text": [
            "3.141592653589793\n",
            "2.718281828459045\n"
          ]
        }
      ]
    },
    {
      "cell_type": "code",
      "source": [
        "import numpy as np\n",
        "\n",
        "np.exp(1)\n",
        "x=np.array([0,1,2])\n",
        "y=np.exp(x)\n",
        "print(y)"
      ],
      "metadata": {
        "colab": {
          "base_uri": "https://localhost:8080/"
        },
        "id": "S0nI-LmUUEb0",
        "outputId": "2532884b-c420-4ebd-bc57-6292434e98c0"
      },
      "execution_count": 284,
      "outputs": [
        {
          "output_type": "stream",
          "name": "stdout",
          "text": [
            "[1.         2.71828183 7.3890561 ]\n"
          ]
        }
      ]
    },
    {
      "cell_type": "code",
      "source": [
        "import matplotlib.pyplot as pit #지수 함수로 그래프 그리기\n",
        "\n",
        "y=np.linspace(-2,2,100)\n",
        "print(y)\n",
        "\n",
        "\n",
        "y=np.exp(y)\n",
        "print(y)\n",
        "\n",
        "plt.plot(x,y)\n",
        "plt.show()\n"
      ],
      "metadata": {
        "colab": {
          "base_uri": "https://localhost:8080/",
          "height": 826
        },
        "id": "LSQFjZnvUfLC",
        "outputId": "36f99160-c772-4971-9a98-b071ccd799e4"
      },
      "execution_count": 292,
      "outputs": [
        {
          "output_type": "stream",
          "name": "stdout",
          "text": [
            "[-2.         -1.95959596 -1.91919192 -1.87878788 -1.83838384 -1.7979798\n",
            " -1.75757576 -1.71717172 -1.67676768 -1.63636364 -1.5959596  -1.55555556\n",
            " -1.51515152 -1.47474747 -1.43434343 -1.39393939 -1.35353535 -1.31313131\n",
            " -1.27272727 -1.23232323 -1.19191919 -1.15151515 -1.11111111 -1.07070707\n",
            " -1.03030303 -0.98989899 -0.94949495 -0.90909091 -0.86868687 -0.82828283\n",
            " -0.78787879 -0.74747475 -0.70707071 -0.66666667 -0.62626263 -0.58585859\n",
            " -0.54545455 -0.50505051 -0.46464646 -0.42424242 -0.38383838 -0.34343434\n",
            " -0.3030303  -0.26262626 -0.22222222 -0.18181818 -0.14141414 -0.1010101\n",
            " -0.06060606 -0.02020202  0.02020202  0.06060606  0.1010101   0.14141414\n",
            "  0.18181818  0.22222222  0.26262626  0.3030303   0.34343434  0.38383838\n",
            "  0.42424242  0.46464646  0.50505051  0.54545455  0.58585859  0.62626263\n",
            "  0.66666667  0.70707071  0.74747475  0.78787879  0.82828283  0.86868687\n",
            "  0.90909091  0.94949495  0.98989899  1.03030303  1.07070707  1.11111111\n",
            "  1.15151515  1.19191919  1.23232323  1.27272727  1.31313131  1.35353535\n",
            "  1.39393939  1.43434343  1.47474747  1.51515152  1.55555556  1.5959596\n",
            "  1.63636364  1.67676768  1.71717172  1.75757576  1.7979798   1.83838384\n",
            "  1.87878788  1.91919192  1.95959596  2.        ]\n",
            "[0.13533528 0.14091534 0.14672548 0.15277518 0.15907431 0.16563316\n",
            " 0.17246245 0.17957331 0.18697737 0.19468671 0.20271391 0.21107209\n",
            " 0.21977488 0.22883651 0.23827175 0.24809603 0.25832537 0.26897649\n",
            " 0.28006676 0.2916143  0.30363796 0.31615738 0.32919299 0.34276607\n",
            " 0.35689879 0.37161423 0.3869364  0.40289032 0.41950205 0.4367987\n",
            " 0.45480852 0.4735609  0.49308648 0.51341712 0.53458602 0.55662774\n",
            " 0.57957828 0.6034751  0.62835721 0.65426525 0.68124152 0.70933005\n",
            " 0.73857671 0.76902926 0.8007374  0.83375292 0.86812971 0.9039239\n",
            " 0.94119394 0.98000067 1.02040746 1.06248028 1.10628782 1.1519016\n",
            " 1.1993961  1.24884887 1.30034064 1.35395549 1.40978096 1.46790818\n",
            " 1.52843208 1.59145146 1.65706921 1.72539247 1.7965328  1.87060634\n",
            " 1.94773404 2.02804182 2.1116608  2.19872751 2.2893841  2.38377858\n",
            " 2.48206508 2.58440408 2.69096264 2.80191477 2.91744161 3.03773178\n",
            " 3.16298168 3.2933958  3.42918709 3.57057723 3.71779709 3.87108703\n",
            " 4.03069732 4.19688857 4.36993212 4.55011049 4.73771786 4.93306055\n",
            " 5.13645748 5.34824076 5.56875615 5.7983637  6.03743829 6.28637026\n",
            " 6.54556603 6.81544881 7.09645923 7.3890561 ]\n"
          ]
        },
        {
          "output_type": "error",
          "ename": "NameError",
          "evalue": "name 'plt' is not defined",
          "traceback": [
            "\u001b[0;31m---------------------------------------------------------------------------\u001b[0m",
            "\u001b[0;31mNameError\u001b[0m                                 Traceback (most recent call last)",
            "\u001b[0;32m<ipython-input-292-b674b4c580eb>\u001b[0m in \u001b[0;36m<cell line: 10>\u001b[0;34m()\u001b[0m\n\u001b[1;32m      8\u001b[0m \u001b[0mprint\u001b[0m\u001b[0;34m(\u001b[0m\u001b[0my\u001b[0m\u001b[0;34m)\u001b[0m\u001b[0;34m\u001b[0m\u001b[0;34m\u001b[0m\u001b[0m\n\u001b[1;32m      9\u001b[0m \u001b[0;34m\u001b[0m\u001b[0m\n\u001b[0;32m---> 10\u001b[0;31m \u001b[0mplt\u001b[0m\u001b[0;34m.\u001b[0m\u001b[0mplot\u001b[0m\u001b[0;34m(\u001b[0m\u001b[0mx\u001b[0m\u001b[0;34m,\u001b[0m\u001b[0my\u001b[0m\u001b[0;34m)\u001b[0m\u001b[0;34m\u001b[0m\u001b[0;34m\u001b[0m\u001b[0m\n\u001b[0m\u001b[1;32m     11\u001b[0m \u001b[0mplt\u001b[0m\u001b[0;34m.\u001b[0m\u001b[0mshow\u001b[0m\u001b[0;34m(\u001b[0m\u001b[0;34m)\u001b[0m\u001b[0;34m\u001b[0m\u001b[0;34m\u001b[0m\u001b[0m\n",
            "\u001b[0;31mNameError\u001b[0m: name 'plt' is not defined"
          ]
        }
      ]
    },
    {
      "cell_type": "markdown",
      "source": [
        "random-난수"
      ],
      "metadata": {
        "id": "HB6r1JIFV3tO"
      }
    },
    {
      "cell_type": "code",
      "source": [
        "np.random.rand()\n",
        "\n",
        "print(np.random.rand(3,5)) #3행 5열짜리 랜덤수 구하기"
      ],
      "metadata": {
        "colab": {
          "base_uri": "https://localhost:8080/"
        },
        "id": "uCaWzFNrV-J7",
        "outputId": "95fee609-7d2b-4ce9-9635-01dc06d9e73b"
      },
      "execution_count": 296,
      "outputs": [
        {
          "output_type": "stream",
          "name": "stdout",
          "text": [
            "[[0.42953332 0.75621313 0.40078391 0.812389   0.47345087]\n",
            " [0.87254218 0.928999   0.92932393 0.68185505 0.8238089 ]\n",
            " [0.33082176 0.78402401 0.3918078  0.54305136 0.17807167]]\n"
          ]
        }
      ]
    },
    {
      "cell_type": "markdown",
      "source": [
        "- 파일로 저장하기\n",
        "- 파일로 불러오기\n"
      ],
      "metadata": {
        "id": "mhWaEy6qWiKS"
      }
    },
    {
      "cell_type": "code",
      "source": [
        "# 0~99까지  10행 10열 2차원 배열 만들기\n",
        "a=np.arange(0,100). reshape(10,10)\n",
        "print(a)\n",
        "\n",
        "np.save('test.npy',a)\n",
        "\n"
      ],
      "metadata": {
        "colab": {
          "base_uri": "https://localhost:8080/"
        },
        "id": "gk6s37hpWasa",
        "outputId": "2cd213e7-f8ea-4ca0-97b2-43335751b1d1"
      },
      "execution_count": 301,
      "outputs": [
        {
          "output_type": "stream",
          "name": "stdout",
          "text": [
            "[[ 0  1  2  3  4  5  6  7  8  9]\n",
            " [10 11 12 13 14 15 16 17 18 19]\n",
            " [20 21 22 23 24 25 26 27 28 29]\n",
            " [30 31 32 33 34 35 36 37 38 39]\n",
            " [40 41 42 43 44 45 46 47 48 49]\n",
            " [50 51 52 53 54 55 56 57 58 59]\n",
            " [60 61 62 63 64 65 66 67 68 69]\n",
            " [70 71 72 73 74 75 76 77 78 79]\n",
            " [80 81 82 83 84 85 86 87 88 89]\n",
            " [90 91 92 93 94 95 96 97 98 99]]\n"
          ]
        }
      ]
    },
    {
      "cell_type": "code",
      "source": [
        "# 넌파이 불러오기\n",
        "k=np.load('test.npy')\n",
        "\n",
        "print(k)"
      ],
      "metadata": {
        "colab": {
          "base_uri": "https://localhost:8080/"
        },
        "id": "FKbQuE9AX5NT",
        "outputId": "2315adb1-429a-4c8f-b41b-f2e60331cf93"
      },
      "execution_count": 302,
      "outputs": [
        {
          "output_type": "stream",
          "name": "stdout",
          "text": [
            "[[ 0  1  2  3  4  5  6  7  8  9]\n",
            " [10 11 12 13 14 15 16 17 18 19]\n",
            " [20 21 22 23 24 25 26 27 28 29]\n",
            " [30 31 32 33 34 35 36 37 38 39]\n",
            " [40 41 42 43 44 45 46 47 48 49]\n",
            " [50 51 52 53 54 55 56 57 58 59]\n",
            " [60 61 62 63 64 65 66 67 68 69]\n",
            " [70 71 72 73 74 75 76 77 78 79]\n",
            " [80 81 82 83 84 85 86 87 88 89]\n",
            " [90 91 92 93 94 95 96 97 98 99]]\n"
          ]
        }
      ]
    },
    {
      "cell_type": "markdown",
      "source": [
        "# 우수 초콜릿 분석 하기"
      ],
      "metadata": {
        "id": "ExzEI_zNa7wS"
      }
    },
    {
      "cell_type": "code",
      "source": [
        "from google.colab import files\n",
        "f = files.upload() # 파일 업로드하기"
      ],
      "metadata": {
        "colab": {
          "base_uri": "https://localhost:8080/",
          "height": 77
        },
        "id": "Ei7Zo3HqcVE0",
        "outputId": "c0ec83f4-c947-4661-976e-33a8d1be02a7"
      },
      "execution_count": 304,
      "outputs": [
        {
          "output_type": "display_data",
          "data": {
            "text/plain": [
              "<IPython.core.display.HTML object>"
            ],
            "text/html": [
              "\n",
              "     <input type=\"file\" id=\"files-9248a735-f968-4cca-96ef-a4a0ea35befa\" name=\"files[]\" multiple disabled\n",
              "        style=\"border:none\" />\n",
              "     <output id=\"result-9248a735-f968-4cca-96ef-a4a0ea35befa\">\n",
              "      Upload widget is only available when the cell has been executed in the\n",
              "      current browser session. Please rerun this cell to enable.\n",
              "      </output>\n",
              "      <script>// Copyright 2017 Google LLC\n",
              "//\n",
              "// Licensed under the Apache License, Version 2.0 (the \"License\");\n",
              "// you may not use this file except in compliance with the License.\n",
              "// You may obtain a copy of the License at\n",
              "//\n",
              "//      http://www.apache.org/licenses/LICENSE-2.0\n",
              "//\n",
              "// Unless required by applicable law or agreed to in writing, software\n",
              "// distributed under the License is distributed on an \"AS IS\" BASIS,\n",
              "// WITHOUT WARRANTIES OR CONDITIONS OF ANY KIND, either express or implied.\n",
              "// See the License for the specific language governing permissions and\n",
              "// limitations under the License.\n",
              "\n",
              "/**\n",
              " * @fileoverview Helpers for google.colab Python module.\n",
              " */\n",
              "(function(scope) {\n",
              "function span(text, styleAttributes = {}) {\n",
              "  const element = document.createElement('span');\n",
              "  element.textContent = text;\n",
              "  for (const key of Object.keys(styleAttributes)) {\n",
              "    element.style[key] = styleAttributes[key];\n",
              "  }\n",
              "  return element;\n",
              "}\n",
              "\n",
              "// Max number of bytes which will be uploaded at a time.\n",
              "const MAX_PAYLOAD_SIZE = 100 * 1024;\n",
              "\n",
              "function _uploadFiles(inputId, outputId) {\n",
              "  const steps = uploadFilesStep(inputId, outputId);\n",
              "  const outputElement = document.getElementById(outputId);\n",
              "  // Cache steps on the outputElement to make it available for the next call\n",
              "  // to uploadFilesContinue from Python.\n",
              "  outputElement.steps = steps;\n",
              "\n",
              "  return _uploadFilesContinue(outputId);\n",
              "}\n",
              "\n",
              "// This is roughly an async generator (not supported in the browser yet),\n",
              "// where there are multiple asynchronous steps and the Python side is going\n",
              "// to poll for completion of each step.\n",
              "// This uses a Promise to block the python side on completion of each step,\n",
              "// then passes the result of the previous step as the input to the next step.\n",
              "function _uploadFilesContinue(outputId) {\n",
              "  const outputElement = document.getElementById(outputId);\n",
              "  const steps = outputElement.steps;\n",
              "\n",
              "  const next = steps.next(outputElement.lastPromiseValue);\n",
              "  return Promise.resolve(next.value.promise).then((value) => {\n",
              "    // Cache the last promise value to make it available to the next\n",
              "    // step of the generator.\n",
              "    outputElement.lastPromiseValue = value;\n",
              "    return next.value.response;\n",
              "  });\n",
              "}\n",
              "\n",
              "/**\n",
              " * Generator function which is called between each async step of the upload\n",
              " * process.\n",
              " * @param {string} inputId Element ID of the input file picker element.\n",
              " * @param {string} outputId Element ID of the output display.\n",
              " * @return {!Iterable<!Object>} Iterable of next steps.\n",
              " */\n",
              "function* uploadFilesStep(inputId, outputId) {\n",
              "  const inputElement = document.getElementById(inputId);\n",
              "  inputElement.disabled = false;\n",
              "\n",
              "  const outputElement = document.getElementById(outputId);\n",
              "  outputElement.innerHTML = '';\n",
              "\n",
              "  const pickedPromise = new Promise((resolve) => {\n",
              "    inputElement.addEventListener('change', (e) => {\n",
              "      resolve(e.target.files);\n",
              "    });\n",
              "  });\n",
              "\n",
              "  const cancel = document.createElement('button');\n",
              "  inputElement.parentElement.appendChild(cancel);\n",
              "  cancel.textContent = 'Cancel upload';\n",
              "  const cancelPromise = new Promise((resolve) => {\n",
              "    cancel.onclick = () => {\n",
              "      resolve(null);\n",
              "    };\n",
              "  });\n",
              "\n",
              "  // Wait for the user to pick the files.\n",
              "  const files = yield {\n",
              "    promise: Promise.race([pickedPromise, cancelPromise]),\n",
              "    response: {\n",
              "      action: 'starting',\n",
              "    }\n",
              "  };\n",
              "\n",
              "  cancel.remove();\n",
              "\n",
              "  // Disable the input element since further picks are not allowed.\n",
              "  inputElement.disabled = true;\n",
              "\n",
              "  if (!files) {\n",
              "    return {\n",
              "      response: {\n",
              "        action: 'complete',\n",
              "      }\n",
              "    };\n",
              "  }\n",
              "\n",
              "  for (const file of files) {\n",
              "    const li = document.createElement('li');\n",
              "    li.append(span(file.name, {fontWeight: 'bold'}));\n",
              "    li.append(span(\n",
              "        `(${file.type || 'n/a'}) - ${file.size} bytes, ` +\n",
              "        `last modified: ${\n",
              "            file.lastModifiedDate ? file.lastModifiedDate.toLocaleDateString() :\n",
              "                                    'n/a'} - `));\n",
              "    const percent = span('0% done');\n",
              "    li.appendChild(percent);\n",
              "\n",
              "    outputElement.appendChild(li);\n",
              "\n",
              "    const fileDataPromise = new Promise((resolve) => {\n",
              "      const reader = new FileReader();\n",
              "      reader.onload = (e) => {\n",
              "        resolve(e.target.result);\n",
              "      };\n",
              "      reader.readAsArrayBuffer(file);\n",
              "    });\n",
              "    // Wait for the data to be ready.\n",
              "    let fileData = yield {\n",
              "      promise: fileDataPromise,\n",
              "      response: {\n",
              "        action: 'continue',\n",
              "      }\n",
              "    };\n",
              "\n",
              "    // Use a chunked sending to avoid message size limits. See b/62115660.\n",
              "    let position = 0;\n",
              "    do {\n",
              "      const length = Math.min(fileData.byteLength - position, MAX_PAYLOAD_SIZE);\n",
              "      const chunk = new Uint8Array(fileData, position, length);\n",
              "      position += length;\n",
              "\n",
              "      const base64 = btoa(String.fromCharCode.apply(null, chunk));\n",
              "      yield {\n",
              "        response: {\n",
              "          action: 'append',\n",
              "          file: file.name,\n",
              "          data: base64,\n",
              "        },\n",
              "      };\n",
              "\n",
              "      let percentDone = fileData.byteLength === 0 ?\n",
              "          100 :\n",
              "          Math.round((position / fileData.byteLength) * 100);\n",
              "      percent.textContent = `${percentDone}% done`;\n",
              "\n",
              "    } while (position < fileData.byteLength);\n",
              "  }\n",
              "\n",
              "  // All done.\n",
              "  yield {\n",
              "    response: {\n",
              "      action: 'complete',\n",
              "    }\n",
              "  };\n",
              "}\n",
              "\n",
              "scope.google = scope.google || {};\n",
              "scope.google.colab = scope.google.colab || {};\n",
              "scope.google.colab._files = {\n",
              "  _uploadFiles,\n",
              "  _uploadFilesContinue,\n",
              "};\n",
              "})(self);\n",
              "</script> "
            ]
          },
          "metadata": {}
        },
        {
          "output_type": "stream",
          "name": "stdout",
          "text": [
            "Saving chocolate_rating.csv to chocolate_rating.csv\n"
          ]
        }
      ]
    },
    {
      "cell_type": "code",
      "source": [
        "\n",
        "\n",
        "print(data)\n",
        "\n",
        "print(data.ndim)\n",
        "\n",
        "print(data.shape)\n",
        "\n",
        "print(data.size)\n",
        "\n"
      ],
      "metadata": {
        "colab": {
          "base_uri": "https://localhost:8080/"
        },
        "id": "Rxc52XHHcnUr",
        "outputId": "221ca895-3c9f-431b-f8ca-b0dfe02ad88e"
      },
      "execution_count": 316,
      "outputs": [
        {
          "output_type": "stream",
          "name": "stdout",
          "text": [
            "[[1.000e+00 2.016e+03 6.300e-01 3.750e+00]\n",
            " [2.000e+00 2.015e+03 7.000e-01 2.750e+00]\n",
            " [3.000e+00 2.015e+03 7.000e-01 3.000e+00]\n",
            " ...\n",
            " [1.793e+03 2.011e+03 6.500e-01 3.500e+00]\n",
            " [1.794e+03 2.011e+03 6.200e-01 3.250e+00]\n",
            " [1.795e+03 2.010e+03 6.500e-01 3.000e+00]]\n",
            "2\n",
            "(1795, 4)\n",
            "7180\n"
          ]
        }
      ]
    },
    {
      "cell_type": "code",
      "source": [
        "rating_mean=data[:,3].mean()\n",
        "print(rating_mean)\n",
        "\n",
        "high_level=data[data[:,3]>=4]\n",
        "#print(high_level[0:10])\n",
        "high_id=high_level[:,0].astype(np.int64)\n",
        "print(high_id)\n",
        "\n",
        "print('우수 초콜릿 수는?',high_id.size)"
      ],
      "metadata": {
        "colab": {
          "base_uri": "https://localhost:8080/"
        },
        "id": "KUn-A7wFe0L8",
        "outputId": "c818541f-17ad-4a45-c9cc-d77ce8a1ece6"
      },
      "execution_count": 332,
      "outputs": [
        {
          "output_type": "stream",
          "name": "stdout",
          "text": [
            "3.185933147632312\n",
            "[  10   18   21   55   57   77   78   79   84   87   88   93  108  109\n",
            "  118  124  153  180  181  187  223  232  233  240  243  244  245  248\n",
            "  257  312  316  317  358  437  503  567  573  574  582  601  650  687\n",
            "  690  691  701  720  730  800  828  862  864  865  866  883  919  993\n",
            " 1088 1089 1118 1119 1120 1204 1241 1245 1247 1274 1277 1278 1289 1291\n",
            " 1293 1295 1323 1331 1336 1378 1394 1426 1428 1433 1479 1488 1513 1516\n",
            " 1529 1530 1531 1533 1536 1537 1544 1545 1664 1683 1686 1688 1694 1700\n",
            " 1740 1757]\n",
            "우수 초콜릿 수는? 100\n"
          ]
        }
      ]
    },
    {
      "cell_type": "code",
      "source": [
        "high_kakao=high_level[:,2]\n",
        "print(high_kakao)\n",
        "\n",
        "unique_values,value_counts=np.unique(high_kakao, return_counts=True)\n",
        "print('카카오함유량:',unique_values)\n",
        "print('함유량별 빈도수:',value_counts)"
      ],
      "metadata": {
        "colab": {
          "base_uri": "https://localhost:8080/"
        },
        "id": "sV0AXg_ShRu3",
        "outputId": "3b96ddde-0abc-434f-e6e7-f12949531d3d"
      },
      "execution_count": 343,
      "outputs": [
        {
          "output_type": "stream",
          "name": "stdout",
          "text": [
            "[0.7  0.7  0.63 0.7  0.7  0.7  0.75 0.7  0.7  0.7  0.66 0.6  0.7  0.7\n",
            " 0.7  0.72 0.7  0.73 0.72 0.72 0.75 0.75 0.75 0.75 0.75 0.75 0.75 0.75\n",
            " 0.7  0.71 0.7  0.7  0.72 0.75 0.7  0.7  0.7  0.7  0.7  0.7  0.68 0.7\n",
            " 0.74 0.69 0.7  0.74 0.7  0.72 0.7  0.74 0.7  0.72 0.72 0.7  0.7  0.63\n",
            " 0.68 0.74 0.67 0.65 0.64 0.75 0.7  0.7  0.7  0.75 0.7  0.67 0.7  0.72\n",
            " 0.72 0.72 0.75 0.75 0.8  0.75 0.75 0.7  0.78 0.65 0.7  0.72 0.7  0.75\n",
            " 0.88 0.7  0.67 0.7  0.7  0.7  0.64 0.7  0.7  0.63 0.69 0.64 0.64 0.7\n",
            " 0.7  0.7 ]\n",
            "카카오함유량: [0.6  0.63 0.64 0.65 0.66 0.67 0.68 0.69 0.7  0.71 0.72 0.73 0.74 0.75\n",
            " 0.78 0.8  0.88]\n",
            "함유량별 빈도수: [ 1  3  4  2  1  3  2  2 45  1 11  1  4 17  1  1  1]\n"
          ]
        }
      ]
    },
    {
      "cell_type": "code",
      "source": [
        "max_idx=np.argmax(value_counts)\n",
        "print(max_idx)\n",
        "\n",
        "print(unique_values[max_idx])\n",
        "\n",
        "print( '우수초콜릿', high_id.size, '가지 중', value_counts[ max_idx], '가지의 카카오 함유량이 ', unique_values[ max_idx ] * 100, '%입니다'  )\n",
        "\n"
      ],
      "metadata": {
        "colab": {
          "base_uri": "https://localhost:8080/"
        },
        "id": "tmqPaFjKkLnk",
        "outputId": "67e87af2-c1e5-4b7d-f0d3-5a7372d28576"
      },
      "execution_count": 351,
      "outputs": [
        {
          "output_type": "stream",
          "name": "stdout",
          "text": [
            "8\n",
            "0.7\n",
            "우수초콜릿 100 가지 중 45 가지의 카카오 함유량이  70.0 %입니다\n"
          ]
        }
      ]
    }
  ]
}